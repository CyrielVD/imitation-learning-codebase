{
 "cells": [
  {
   "cell_type": "code",
   "execution_count": 16,
   "metadata": {},
   "outputs": [],
   "source": [
    "import os\n",
    "\n",
    "from graphviz import Digraph"
   ]
  },
  {
   "cell_type": "code",
   "execution_count": 17,
   "metadata": {},
   "outputs": [
    {
     "name": "stdout",
     "output_type": "stream",
     "text": [
      "ai.evaluator\n",
      "ai.model\n",
      "ai.trainer\n",
      "data.dataset_loader\n",
      "data.dataset_saver\n",
      "data.utils\n",
      "scripts.data_cleaning\n",
      "scripts.dataset_experiment\n",
      "scripts.interactive_experiment\n",
      "sim.common.actors\n",
      "sim.common.environment\n",
      "sim.common.environment_runner\n",
      "sim.common.noise\n",
      "sim.environment_factory\n",
      "sim.gym.environments.modified_car_racing\n",
      "sim.gym.gym_environment\n",
      "sim.ros.src.process_wrappers\n",
      "sim.ros.src.ros_environment\n",
      "sim.ros.src.utils\n"
     ]
    }
   ],
   "source": [
    "root = os.path.dirname(os.getcwd())\n",
    "python_files = {}\n",
    "exclude_dirs = ['ros', 'algorithms', 'test', 'catkin_generated', 'atomic_configure', 'devel',\n",
    "               'installspace', 'rosnodes', 'condor', 'architectures', 'core']\n",
    "for dirpath, dnames, fnames in os.walk(os.path.join(root, 'src')):\n",
    "    if os.path.basename(dirpath) in exclude_dirs:\n",
    "        continue\n",
    "    for f in fnames:\n",
    "        if f.endswith(\".py\"):\n",
    "            module = 'src.'.join(dirpath.split('src')[1:])\n",
    "            module += f'.{f[:-3]}'\n",
    "            module = module.replace('/', '.')\n",
    "            module = module.replace('..', '.')\n",
    "            module = module[1:]\n",
    "            python_files[module] = os.path.join(dirpath, f)\n",
    "for f in sorted(python_files.keys()):\n",
    "    print(f)"
   ]
  },
  {
   "cell_type": "code",
   "execution_count": 21,
   "metadata": {},
   "outputs": [
    {
     "data": {
      "text/plain": [
       "['sim.gym.gym_environment', 'sim.ros.src.ros_environment']"
      ]
     },
     "execution_count": 21,
     "metadata": {},
     "output_type": "execute_result"
    }
   ],
   "source": [
    "def parse_dependencies(file_path: str) -> list:\n",
    "    module_dependencies = []\n",
    "    with open(file_path, 'r') as f:\n",
    "        lines = f.readlines()\n",
    "    for l in lines:\n",
    "        if 'from src.' in l:\n",
    "            l = l.strip()\n",
    "            total_module = l.split(' ')[1]\n",
    "            module = '.'.join(total_module.split('.')[1:])\n",
    "            if module in python_files.keys():\n",
    "                module_dependencies.append(module)\n",
    "    return module_dependencies\n",
    "parse_dependencies('/Users/kelchtermans/code/imitation-learning-codebase/src/sim/environment_factory.py')"
   ]
  },
  {
   "cell_type": "code",
   "execution_count": 19,
   "metadata": {},
   "outputs": [
    {
     "name": "stdout",
     "output_type": "stream",
     "text": [
      "ai.model\n",
      "core.config_loader\n",
      "core.logger\n",
      "core.utils\n",
      "data.dataset_loader\n",
      "ai.architectures\n",
      "core.config_loader\n",
      "core.logger\n",
      "core.utils\n",
      "ai.evaluator\n",
      "ai.model\n",
      "core.config_loader\n",
      "core.logger\n",
      "core.utils\n",
      "core.config_loader\n",
      "core.logger\n",
      "core.utils\n",
      "core.data_types\n",
      "data.utils\n",
      "core.data_types\n",
      "core.config_loader\n",
      "core.logger\n",
      "core.utils\n",
      "data.dataset_loader\n",
      "data.utils\n",
      "core.data_types\n",
      "core.data_types\n",
      "core.data_types\n",
      "core.data_types\n",
      "core.config_loader\n",
      "data.dataset_saver\n",
      "ai.evaluator\n",
      "ai.model\n",
      "ai.trainer\n",
      "core.config_loader\n",
      "core.logger\n",
      "core.utils\n",
      "core.config_loader\n",
      "core.logger\n",
      "sim.common.environment_runner\n",
      "data.dataset_saver\n",
      "ai.model\n",
      "core.config_loader\n",
      "core.logger\n",
      "core.utils\n",
      "core.data_types\n",
      "core.config_loader\n",
      "core.logger\n",
      "core.utils\n",
      "core.data_types\n",
      "sim.common.actors\n",
      "core.logger\n",
      "core.config_loader\n",
      "core.utils\n",
      "sim.common.actors\n",
      "sim.common.environment\n",
      "core.data_types\n",
      "sim.environment_factory\n",
      "data.dataset_saver\n",
      "core.object_factory\n",
      "core.data_types\n",
      "sim.gym.gym_environment\n",
      "sim.ros.src.ros_environment\n",
      "core.logger\n",
      "core.data_types\n",
      "sim.common.environment\n",
      "core.logger\n",
      "core.utils\n",
      "core.data_types\n",
      "core.logger\n",
      "sim.ros.catkin_ws.src.imitation_learning_ros_package.rosnodes.fsm\n",
      "sim.ros.python3_ros_ws.src.vision_opencv.cv_bridge.python.cv_bridge\n",
      "core.utils\n",
      "sim.common.actors\n",
      "core.data_types\n",
      "sim.common.environment\n",
      "sim.ros.src.process_wrappers\n",
      "sim.ros.src.utils\n",
      "sim.common.actors\n",
      "core.data_types\n",
      "sim.ros.python3_ros_ws.src.vision_opencv.cv_bridge.python.cv_bridge\n"
     ]
    }
   ],
   "source": [
    "dependencies = {}\n",
    "for module in sorted(python_files.keys()):\n",
    "    dependencies[module] = parse_dependencies(python_files[module])"
   ]
  },
  {
   "cell_type": "code",
   "execution_count": 20,
   "metadata": {},
   "outputs": [
    {
     "data": {
      "text/plain": [
       "'dependency-graph.pdf'"
      ]
     },
     "execution_count": 20,
     "metadata": {},
     "output_type": "execute_result"
    }
   ],
   "source": [
    "\n",
    "g = Digraph('G', filename='dependency-graph')\n",
    "for node in sorted(dependencies.keys()):\n",
    "    for edge in sorted(dependencies[node]):\n",
    "        g.edge(node, edge)\n",
    "\n",
    "g.view()"
   ]
  },
  {
   "cell_type": "code",
   "execution_count": null,
   "metadata": {},
   "outputs": [],
   "source": []
  }
 ],
 "metadata": {
  "kernelspec": {
   "display_name": "Python 3",
   "language": "python",
   "name": "python3"
  },
  "language_info": {
   "codemirror_mode": {
    "name": "ipython",
    "version": 3
   },
   "file_extension": ".py",
   "mimetype": "text/x-python",
   "name": "python",
   "nbconvert_exporter": "python",
   "pygments_lexer": "ipython3",
   "version": "3.7.4"
  }
 },
 "nbformat": 4,
 "nbformat_minor": 4
}
